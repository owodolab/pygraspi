{
 "cells": [
  {
   "cell_type": "code",
   "execution_count": 136,
   "id": "2177d17b",
   "metadata": {},
   "outputs": [],
   "source": [
    "from skimage.morphology import medial_axis\n",
    "import numpy as np\n",
    "from pymks import PrimitiveTransformer\n",
    "from sklearn.preprocessing import OneHotEncoder\n",
    "from toolz.curried import map as fmap\n",
    "from toolz.curried import curry, pipe"
   ]
  },
  {
   "cell_type": "code",
   "execution_count": 141,
   "id": "2659c32c",
   "metadata": {},
   "outputs": [],
   "source": [
    "@curry\n",
    "def one_hot_encode(data, n_state):\n",
    "    return np.array(PrimitiveTransformer(n_state=n_state, min_=0, max_=n_state - 1).fit_transform(data))\n",
    "\n",
    "unwrap = lambda x: np.array(list(zip(*x)))\n",
    "\n",
    "@curry\n",
    "def moveaxis(ind0, ind1, x):\n",
    "    return np.moveaxis(x, ind0, ind1)\n",
    "\n",
    "def skeletonize(data):\n",
    "    ## this evaluates the skeleton function across multiple samples and two phases\n",
    "    skeleton_func = fmap(lambda x: medial_axis(x, return_distance=True))\n",
    "    return pipe(\n",
    "        data,\n",
    "        skeleton_func,  \n",
    "        unwrap,  ## each skeleton and distance map is in a seperate tuple for each sample(combine skeletons and distance maps together)\n",
    "        tuple\n",
    "    )\n",
    "\n",
    "\n",
    "def skeletonize_multiphase(data, n_state):\n",
    "    return pipe(\n",
    "        data,\n",
    "        one_hot_encode(n_state=n_state),\n",
    "        moveaxis(-1, 0),\n",
    "        fmap(skeletonize),\n",
    "        unwrap,\n",
    "        moveaxis(1, -1),\n",
    "        tuple\n",
    "    )\n",
    "#    _ = one_hot_encode(data, n_phases)\n",
    "#    _ = np.moveaxis(_, -1, 0)\n",
    "##    _ = fmap(lambda x: skeletonize(x), _)\n",
    "#    _ = unwrap(_)\n",
    "#    _ = np.moveaxis(_, 1, -1)\n",
    "#    return tuple(_) \n"
   ]
  },
  {
   "cell_type": "code",
   "execution_count": 142,
   "id": "0ff70d15",
   "metadata": {},
   "outputs": [],
   "source": [
    "data = np.random.randint(0, 4, size=(5, 3, 3))\n",
    "#data_encoded = one_hot_encode(data, 3)\n",
    "#data_encoded.shape\n",
    "\n",
    "#s, d = skeletonize(data)\n",
    "\n",
    "s, d = skeletonize_multiphase(data, 4)\n",
    "\n",
    "#np.moveaxis(np.array(list(fmap(lambda x: skeletonize(x)[0], np.moveaxis(data_encoded, -1, 0)))), 0, -1).shape"
   ]
  },
  {
   "cell_type": "code",
   "execution_count": 143,
   "id": "f9e53cbe",
   "metadata": {},
   "outputs": [
    {
     "name": "stdout",
     "output_type": "stream",
     "text": [
      "(5, 3, 3, 4)\n",
      "(5, 3, 3, 4)\n"
     ]
    }
   ],
   "source": [
    "print(s.shape)\n",
    "print(d.shape)"
   ]
  },
  {
   "cell_type": "code",
   "execution_count": 98,
   "id": "d7121e65",
   "metadata": {},
   "outputs": [
    {
     "data": {
      "text/plain": [
       "(3, 4, 5, 5)"
      ]
     },
     "execution_count": 98,
     "metadata": {},
     "output_type": "execute_result"
    }
   ],
   "source": [
    "np.moveaxis(data_encoded, -1, 0).shape"
   ]
  },
  {
   "cell_type": "code",
   "execution_count": 87,
   "id": "db272fc2",
   "metadata": {},
   "outputs": [
    {
     "data": {
      "text/plain": [
       "array([[[ True,  True, False, False, False],\n",
       "        [False, False,  True, False, False],\n",
       "        [False, False, False,  True, False],\n",
       "        [False, False, False, False,  True],\n",
       "        [False,  True,  True,  True, False]],\n",
       "\n",
       "       [[False,  True, False,  True, False],\n",
       "        [ True, False,  True, False,  True],\n",
       "        [ True, False,  True, False,  True],\n",
       "        [ True, False, False,  True, False],\n",
       "        [ True, False, False, False, False]],\n",
       "\n",
       "       [[False, False, False, False, False],\n",
       "        [False, False,  True, False, False],\n",
       "        [False,  True, False,  True, False],\n",
       "        [False,  True, False,  True, False],\n",
       "        [False, False,  True, False, False]]])"
      ]
     },
     "execution_count": 87,
     "metadata": {},
     "output_type": "execute_result"
    }
   ],
   "source": [
    "s"
   ]
  },
  {
   "cell_type": "code",
   "execution_count": 74,
   "id": "47d46fd5",
   "metadata": {},
   "outputs": [
    {
     "data": {
      "text/plain": [
       "(1, 5, 5)"
      ]
     },
     "execution_count": 74,
     "metadata": {},
     "output_type": "execute_result"
    }
   ],
   "source": [
    "s.shape"
   ]
  },
  {
   "cell_type": "code",
   "execution_count": 91,
   "id": "1eec1939",
   "metadata": {},
   "outputs": [
    {
     "data": {
      "text/plain": [
       "[('s0', 's1', 's2', 's3'), ('d0', 'd1', 'd2', 'd3')]"
      ]
     },
     "execution_count": 91,
     "metadata": {},
     "output_type": "execute_result"
    }
   ],
   "source": [
    "aa = [('s0', 'd0'), ('s1', 'd1'), ('s2', 'd2'), ('s3', 'd3')]\n",
    "list(zip(*aa))"
   ]
  },
  {
   "cell_type": "code",
   "execution_count": 89,
   "id": "5c85b8da",
   "metadata": {},
   "outputs": [
    {
     "name": "stdout",
     "output_type": "stream",
     "text": [
      "(array([[0, 1, 2],\n",
      "       [3, 4, 5],\n",
      "       [6, 7, 8]]), array([[0, 1, 2],\n",
      "       [3, 4, 5],\n",
      "       [6, 7, 8]]), array([[0, 1, 2],\n",
      "       [3, 4, 5],\n",
      "       [6, 7, 8]]), array([[0, 1, 2],\n",
      "       [3, 4, 5],\n",
      "       [6, 7, 8]]))\n",
      "[[[0 1 2]\n",
      "  [3 4 5]\n",
      "  [6 7 8]]\n",
      "\n",
      " [[0 1 2]\n",
      "  [3 4 5]\n",
      "  [6 7 8]]\n",
      "\n",
      " [[0 1 2]\n",
      "  [3 4 5]\n",
      "  [6 7 8]]\n",
      "\n",
      " [[0 1 2]\n",
      "  [3 4 5]\n",
      "  [6 7 8]]]\n"
     ]
    }
   ],
   "source": [
    "aa = np.arange(9).reshape(3, 3)\n",
    "bb = np.arange(4).reshape(2, 2)\n",
    "\n",
    "aa_, bb_ = list(zip(*[(aa, bb), (aa, bb), (aa, bb), (aa, bb)]))\n",
    "print(aa_)\n",
    "print(np.stack(aa_))\n",
    "#np.stack(bb_).shape"
   ]
  },
  {
   "cell_type": "code",
   "execution_count": 58,
   "id": "e4d940bc",
   "metadata": {},
   "outputs": [
    {
     "name": "stdout",
     "output_type": "stream",
     "text": [
      "[[[0 1 0 2 0]\n",
      "  [1 0 2 1 0]\n",
      "  [0 0 1 1 0]\n",
      "  [0 0 1 1 1]\n",
      "  [2 1 0 2 1]]]\n",
      "(1, 5, 5, 3)\n"
     ]
    }
   ],
   "source": [
    "data = np.random.randint(0, 3, size=(1, 5, 5))\n",
    "print(data)\n",
    "data_encoded = one_hot_encode(data, 3)\n",
    "print(data_encoded.shape)\n",
    "\n",
    "\n",
    "\n"
   ]
  },
  {
   "cell_type": "code",
   "execution_count": 30,
   "id": "4f426065",
   "metadata": {},
   "outputs": [
    {
     "name": "stdout",
     "output_type": "stream",
     "text": [
      "[[[2 0 2 0 1]\n",
      "  [1 2 0 2 1]\n",
      "  [0 0 1 1 1]\n",
      "  [0 2 1 0 0]\n",
      "  [2 0 2 1 0]]]\n",
      "[[[[0. 0. 1.]\n",
      "   [1. 0. 0.]\n",
      "   [0. 0. 1.]\n",
      "   [1. 0. 0.]\n",
      "   [0. 1. 0.]]\n",
      "\n",
      "  [[0. 1. 0.]\n",
      "   [0. 0. 1.]\n",
      "   [1. 0. 0.]\n",
      "   [0. 0. 1.]\n",
      "   [0. 1. 0.]]\n",
      "\n",
      "  [[1. 0. 0.]\n",
      "   [1. 0. 0.]\n",
      "   [0. 1. 0.]\n",
      "   [0. 1. 0.]\n",
      "   [0. 1. 0.]]\n",
      "\n",
      "  [[1. 0. 0.]\n",
      "   [0. 0. 1.]\n",
      "   [0. 1. 0.]\n",
      "   [1. 0. 0.]\n",
      "   [1. 0. 0.]]\n",
      "\n",
      "  [[0. 0. 1.]\n",
      "   [1. 0. 0.]\n",
      "   [0. 0. 1.]\n",
      "   [0. 1. 0.]\n",
      "   [1. 0. 0.]]]]\n"
     ]
    }
   ],
   "source": [
    "x_data = np.random.randint(0, 3, size=(1, 5, 5))\n",
    "print(x_data)\n",
    "x_trans = PrimitiveTransformer(n_state=3, min_=0, max_=2).fit_transform(x_data)\n",
    "print(np.array(x_trans))"
   ]
  },
  {
   "cell_type": "code",
   "execution_count": 47,
   "id": "0cf063ca",
   "metadata": {},
   "outputs": [
    {
     "name": "stdout",
     "output_type": "stream",
     "text": [
      "(25, 1)\n"
     ]
    }
   ],
   "source": [
    "x_data = np.random.randint(0, 2, size=(5, 5)).flatten().reshape(25, 1)\n",
    "print(x_data.shape)"
   ]
  },
  {
   "cell_type": "code",
   "execution_count": 50,
   "id": "1a1fcb44",
   "metadata": {},
   "outputs": [
    {
     "name": "stderr",
     "output_type": "stream",
     "text": [
      "/nix/store/qd9v8ihxx0ybq8fj8q4xb2irqzzzrh83-python3.9-scikit-learn-1.0.2/lib/python3.9/site-packages/sklearn/preprocessing/_encoders.py:82: FutureWarning: elementwise comparison failed; returning scalar instead, but in the future will perform elementwise comparison\n",
      "  if self.categories != \"auto\":\n",
      "/nix/store/qd9v8ihxx0ybq8fj8q4xb2irqzzzrh83-python3.9-scikit-learn-1.0.2/lib/python3.9/site-packages/sklearn/preprocessing/_encoders.py:93: FutureWarning: elementwise comparison failed; returning scalar instead, but in the future will perform elementwise comparison\n",
      "  if self.categories == \"auto\":\n"
     ]
    }
   ],
   "source": [
    "ohe = OneHotEncoder(sparse=False, categories=np.array([[0, 1, 2]])).fit(x_data)"
   ]
  },
  {
   "cell_type": "code",
   "execution_count": 51,
   "id": "c9ef3c8e",
   "metadata": {},
   "outputs": [
    {
     "data": {
      "text/plain": [
       "array([[1., 0., 0.],\n",
       "       [0., 1., 0.],\n",
       "       [0., 1., 0.],\n",
       "       [0., 1., 0.],\n",
       "       [0., 1., 0.],\n",
       "       [0., 1., 0.],\n",
       "       [1., 0., 0.],\n",
       "       [0., 1., 0.],\n",
       "       [1., 0., 0.],\n",
       "       [1., 0., 0.],\n",
       "       [1., 0., 0.],\n",
       "       [1., 0., 0.],\n",
       "       [0., 1., 0.],\n",
       "       [1., 0., 0.],\n",
       "       [0., 1., 0.],\n",
       "       [0., 1., 0.],\n",
       "       [1., 0., 0.],\n",
       "       [1., 0., 0.],\n",
       "       [1., 0., 0.],\n",
       "       [1., 0., 0.],\n",
       "       [0., 1., 0.],\n",
       "       [0., 1., 0.],\n",
       "       [0., 1., 0.],\n",
       "       [0., 1., 0.],\n",
       "       [1., 0., 0.]])"
      ]
     },
     "execution_count": 51,
     "metadata": {},
     "output_type": "execute_result"
    }
   ],
   "source": [
    "ohe.transform(x_data)"
   ]
  },
  {
   "cell_type": "code",
   "execution_count": 41,
   "id": "c4181496",
   "metadata": {},
   "outputs": [
    {
     "data": {
      "text/plain": [
       "array([[0],\n",
       "       [1],\n",
       "       [1],\n",
       "       [2],\n",
       "       [1],\n",
       "       [1],\n",
       "       [0],\n",
       "       [0],\n",
       "       [1],\n",
       "       [1],\n",
       "       [1],\n",
       "       [1],\n",
       "       [1],\n",
       "       [1],\n",
       "       [0],\n",
       "       [2],\n",
       "       [0],\n",
       "       [0],\n",
       "       [2],\n",
       "       [2],\n",
       "       [0],\n",
       "       [2],\n",
       "       [0],\n",
       "       [2],\n",
       "       [1]])"
      ]
     },
     "execution_count": 41,
     "metadata": {},
     "output_type": "execute_result"
    }
   ],
   "source": [
    "x_data"
   ]
  },
  {
   "cell_type": "code",
   "execution_count": null,
   "id": "dcfd2d2c",
   "metadata": {},
   "outputs": [],
   "source": []
  }
 ],
 "metadata": {
  "kernelspec": {
   "display_name": "Python 3 (ipykernel)",
   "language": "python",
   "name": "python3"
  },
  "language_info": {
   "codemirror_mode": {
    "name": "ipython",
    "version": 3
   },
   "file_extension": ".py",
   "mimetype": "text/x-python",
   "name": "python",
   "nbconvert_exporter": "python",
   "pygments_lexer": "ipython3",
   "version": "3.9.12"
  }
 },
 "nbformat": 4,
 "nbformat_minor": 5
}
